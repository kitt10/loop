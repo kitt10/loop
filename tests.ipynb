{
 "cells": [
  {
   "cell_type": "code",
   "execution_count": 21,
   "metadata": {},
   "outputs": [
    {
     "name": "stdout",
     "output_type": "stream",
     "text": [
      "Linear(in_features=3, out_features=2, bias=True)\n",
      "Parameter containing:\n",
      "tensor([[-0.4629, -0.3757, -0.3351],\n",
      "        [ 0.1532,  0.4842, -0.5683]], requires_grad=True)\n",
      "Parameter containing:\n",
      "tensor([ 0.1482, -0.2935], requires_grad=True)\n",
      "2 2\n",
      "------\n",
      "Linear(in_features=3, out_features=5, bias=True)\n",
      "Parameter containing:\n",
      "tensor([[-0.0507, -0.4640, -0.3700],\n",
      "        [-0.1795, -0.0597, -0.2883],\n",
      "        [ 0.1287,  0.1901, -0.4380],\n",
      "        [ 0.0816, -0.1549,  0.1762],\n",
      "        [-0.3454,  0.2525,  0.0926]], requires_grad=True)\n",
      "Parameter containing:\n",
      "tensor([-0.5440, -0.1612, -0.0018,  0.3072,  0.2208], requires_grad=True)\n",
      "\n",
      "\n",
      " ===\n",
      "Parameter containing:\n",
      "tensor([[-0.4629, -0.3757, -0.3351],\n",
      "        [ 0.1532,  0.4842, -0.5683],\n",
      "        [ 0.1287,  0.1901, -0.4380],\n",
      "        [ 0.0816, -0.1549,  0.1762],\n",
      "        [-0.3454,  0.2525,  0.0926]], requires_grad=True)\n",
      "Parameter containing:\n",
      "tensor([ 0.1482, -0.2935, -0.0018,  0.3072,  0.2208], requires_grad=True)\n"
     ]
    }
   ],
   "source": [
    "import torch.nn as nn\n",
    "\n",
    "lin = nn.Linear(3, 2)\n",
    "print(lin)\n",
    "print(lin.weight)\n",
    "print(lin.bias)\n",
    "w = lin.weight\n",
    "b = lin.bias\n",
    "\n",
    "print(w.size(0), b.size(0))\n",
    "\n",
    "print('------')\n",
    "\n",
    "lin2 = nn.Linear(3, 5)\n",
    "print(lin2)\n",
    "print(lin2.weight)\n",
    "print(lin2.bias)\n",
    "\n",
    "print('\\n\\n ===')\n",
    "lin2.weight.data[:w.size(0), :w.size(1)] = w.data\n",
    "lin2.bias.data[:b.size(0)] = b.data\n",
    "print(lin2.weight)\n",
    "print(lin2.bias)"
   ]
  },
  {
   "cell_type": "code",
   "execution_count": 23,
   "metadata": {},
   "outputs": [],
   "source": [
    "with open('data.txt', 'r') as fr:\n",
    "    with open('data.tsv', 'w') as fw:\n",
    "        for line in fr.readlines():\n",
    "            print(line.strip().replace(' ', '\\t', 1), file=fw)"
   ]
  },
  {
   "cell_type": "code",
   "execution_count": 24,
   "metadata": {},
   "outputs": [
    {
     "name": "stdout",
     "output_type": "stream",
     "text": [
      "POZDRAV Ahoj\n",
      "POZDRAV Dobrý den\n",
      "POZDRAV Čau\n",
      "POZDRAV Nazdar\n",
      "POZDRAV Pozdrav pánbůh\n",
      "POZDRAV Zdar\n",
      "POZDRAV Dobré ráno\n",
      "POZDRAV Dobrý večer\n",
      "POZDRAV Dobrej\n",
      "POZDRAV Zdravíčko\n",
      "POKYN Rozsviť LED\n",
      "POKYN Zamávej\n",
      "POKYN Otoč se\n",
      "POKYN Zapískej\n",
      "POKYN Zvedni levou ruku\n",
      "POKYN Zvedni pravou ruku\n",
      "POKYN Zablikej\n",
      "POKYN Jdi vpřed\n",
      "POKYN Rozjeď se\n",
      "POKYN Zatoč\n",
      "KALENDÁŘ Kolik je hodin\n",
      "KALENDÁŘ Co mám v plánu zítra odpoledne\n",
      "KALENDÁŘ Naplánuj schůzku na pátek ve 3\n",
      "KALENDÁŘ Kolikátého je dnes\n",
      "KALENDÁŘ Jaký je datum\n",
      "KALENDÁŘ Co je za měsíc\n",
      "KALENDÁŘ Jaký je rok\n",
      "KALENDÁŘ Co je dnes za den\n",
      "KALENDÁŘ Kdo má dnes svátek\n",
      "KALENDÁŘ Kdo má dnes narozeniny\n",
      "VYGOOGLI Kolik je států v Africe\n",
      "VYGOOGLI Najdi mi restauraci v Brně\n",
      "VYGOOGLI Jaký je počet obyvatel v Plzni\n",
      "VYGOOGLI Kde koupit bitcoin za CZK a jaký je aktuální kurz\n",
      "VYGOOGLI Kdo je prezident ve Francii\n",
      "VYGOOGLI Kde budou další olympijské hry\n",
      "VYGOOGLI Jak vybrat běžky\n",
      "VYGOOGLI Jak napsat životopis\n",
      "VYGOOGLI Jak rychle zhubnout\n",
      "VYGOOGLI Jak vydělat peníze\n",
      "POZNEJ Co to je?\n",
      "POZNEJ Jaký je to předmět\n",
      "POZNEJ Poznej předmět\n",
      "POZNEJ Poznej, co to je\n",
      "POZNEJ Urči, o co se jedná\n",
      "POZNEJ Jaká je to věc\n",
      "POZNEJ Co to mám\n",
      "POZNEJ Co to držím\n",
      "POZNEJ Co vidíš\n",
      "POZNEJ Co je tohle\n",
      "STOP Vypnout\n",
      "STOP Ukončit\n",
      "STOP Zastav\n",
      "STOP Přestaň\n",
      "STOP Konec\n",
      "STOP Stop\n",
      "STOP Dost\n",
      "STOP Vypni se\n",
      "STOP Ukonči se\n",
      "STOP Zastav se\n"
     ]
    }
   ],
   "source": [
    "with open('data.tsv', 'r') as fr:\n",
    "    for line in fr.readlines():\n",
    "        intent, prompt = line.strip().split('\\t')\n",
    "        print(intent, prompt)"
   ]
  },
  {
   "cell_type": "code",
   "execution_count": 20,
   "metadata": {},
   "outputs": [
    {
     "name": "stdout",
     "output_type": "stream",
     "text": [
      "[[2 3]] [[1 2]\n",
      " [5 4]]\n",
      "(1, 2) (2, 2)\n",
      "[[2 3]\n",
      " [1 2]\n",
      " [5 4]]\n",
      "(3, 2)\n"
     ]
    }
   ],
   "source": [
    "import numpy as np\n",
    "\n",
    "a = np.array([[2, 3]], ndmin=2)\n",
    "c = np.array([[1, 2],[5, 4]], ndmin=2)\n",
    "b = np.concatenate((a, c), axis=0)\n",
    "print(a, c)\n",
    "print(a.shape, c.shape)\n",
    "print(b)\n",
    "print(b.shape)\n",
    "\n"
   ]
  }
 ],
 "metadata": {
  "kernelspec": {
   "display_name": "net",
   "language": "python",
   "name": "python3"
  },
  "language_info": {
   "codemirror_mode": {
    "name": "ipython",
    "version": 3
   },
   "file_extension": ".py",
   "mimetype": "text/x-python",
   "name": "python",
   "nbconvert_exporter": "python",
   "pygments_lexer": "ipython3",
   "version": "3.6.13"
  },
  "orig_nbformat": 4
 },
 "nbformat": 4,
 "nbformat_minor": 2
}
